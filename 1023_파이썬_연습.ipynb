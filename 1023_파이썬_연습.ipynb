{
  "nbformat": 4,
  "nbformat_minor": 0,
  "metadata": {
    "colab": {
      "name": "1023 파이썬 연습.ipynb",
      "provenance": [],
      "collapsed_sections": [],
      "toc_visible": true,
      "authorship_tag": "ABX9TyMyj+2p+JFoNQ7RHBIUGed4",
      "include_colab_link": true
    },
    "kernelspec": {
      "name": "python3",
      "display_name": "Python 3"
    }
  },
  "cells": [
    {
      "cell_type": "markdown",
      "metadata": {
        "id": "view-in-github",
        "colab_type": "text"
      },
      "source": [
        "<a href=\"https://colab.research.google.com/github/songik/Code_Practice/blob/master/1023_%ED%8C%8C%EC%9D%B4%EC%8D%AC_%EC%97%B0%EC%8A%B5.ipynb\" target=\"_parent\"><img src=\"https://colab.research.google.com/assets/colab-badge.svg\" alt=\"Open In Colab\"/></a>"
      ]
    },
    {
      "cell_type": "markdown",
      "metadata": {
        "id": "GQeIUaqLRgLQ"
      },
      "source": [
        ""
      ]
    },
    {
      "cell_type": "markdown",
      "metadata": {
        "id": "fBFRumW0Rikf"
      },
      "source": [
        "# 핵심 키워드\n",
        "* import\n",
        "* boolean\n",
        "* data type\n",
        "* list\n",
        "* for\n",
        "* if\n",
        "* len\n",
        "* split\n",
        "* join"
      ]
    },
    {
      "cell_type": "code",
      "metadata": {
        "id": "fYkabDEDFWDm",
        "cellView": "both",
        "outputId": "c6a3e755-1b4a-4123-e22b-de07e93b584a",
        "colab": {
          "base_uri": "https://localhost:8080/",
          "height": 395
        }
      },
      "source": [
        "#@title\n",
        "import this"
      ],
      "execution_count": 1,
      "outputs": [
        {
          "output_type": "stream",
          "text": [
            "The Zen of Python, by Tim Peters\n",
            "\n",
            "Beautiful is better than ugly.\n",
            "Explicit is better than implicit.\n",
            "Simple is better than complex.\n",
            "Complex is better than complicated.\n",
            "Flat is better than nested.\n",
            "Sparse is better than dense.\n",
            "Readability counts.\n",
            "Special cases aren't special enough to break the rules.\n",
            "Although practicality beats purity.\n",
            "Errors should never pass silently.\n",
            "Unless explicitly silenced.\n",
            "In the face of ambiguity, refuse the temptation to guess.\n",
            "There should be one-- and preferably only one --obvious way to do it.\n",
            "Although that way may not be obvious at first unless you're Dutch.\n",
            "Now is better than never.\n",
            "Although never is often better than *right* now.\n",
            "If the implementation is hard to explain, it's a bad idea.\n",
            "If the implementation is easy to explain, it may be a good idea.\n",
            "Namespaces are one honking great idea -- let's do more of those!\n"
          ],
          "name": "stdout"
        }
      ]
    },
    {
      "cell_type": "markdown",
      "metadata": {
        "id": "pDK0bH8ZSSfd"
      },
      "source": [
        ""
      ]
    },
    {
      "cell_type": "markdown",
      "metadata": {
        "id": "0h1RpoJ5STRk"
      },
      "source": [
        "# boolean"
      ]
    },
    {
      "cell_type": "code",
      "metadata": {
        "id": "7URS8piiFgtY",
        "outputId": "e8de10f6-51f5-4bdd-acdb-1794da1759c7",
        "colab": {
          "base_uri": "https://localhost:8080/",
          "height": 35
        }
      },
      "source": [
        "False == \"0\"  "
      ],
      "execution_count": 3,
      "outputs": [
        {
          "output_type": "execute_result",
          "data": {
            "text/plain": [
              "False"
            ]
          },
          "metadata": {
            "tags": []
          },
          "execution_count": 3
        }
      ]
    },
    {
      "cell_type": "code",
      "metadata": {
        "id": "5kAhMeufSanW",
        "outputId": "a4615830-f488-46a2-a6fb-b6a9bbc1be73",
        "colab": {
          "base_uri": "https://localhost:8080/",
          "height": 35
        }
      },
      "source": [
        "False == 0"
      ],
      "execution_count": 45,
      "outputs": [
        {
          "output_type": "execute_result",
          "data": {
            "text/plain": [
              "True"
            ]
          },
          "metadata": {
            "tags": []
          },
          "execution_count": 45
        }
      ]
    },
    {
      "cell_type": "code",
      "metadata": {
        "id": "014LvqbpSgDc",
        "outputId": "a21344f9-aab7-40a5-dcec-0cbc8f5e2087",
        "colab": {
          "base_uri": "https://localhost:8080/",
          "height": 35
        }
      },
      "source": [
        "True == 1"
      ],
      "execution_count": 46,
      "outputs": [
        {
          "output_type": "execute_result",
          "data": {
            "text/plain": [
              "True"
            ]
          },
          "metadata": {
            "tags": []
          },
          "execution_count": 46
        }
      ]
    },
    {
      "cell_type": "code",
      "metadata": {
        "id": "lbJH6YZtSfrt",
        "outputId": "d786d61d-3c3f-4130-d1ac-01e03aa79b30",
        "colab": {
          "base_uri": "https://localhost:8080/",
          "height": 35
        }
      },
      "source": [
        "True == \"1\""
      ],
      "execution_count": 47,
      "outputs": [
        {
          "output_type": "execute_result",
          "data": {
            "text/plain": [
              "False"
            ]
          },
          "metadata": {
            "tags": []
          },
          "execution_count": 47
        }
      ]
    },
    {
      "cell_type": "code",
      "metadata": {
        "id": "RbG2Y-81SfZX",
        "outputId": "50d6c30c-1b72-4093-a478-5b4ad20ab4e6",
        "colab": {
          "base_uri": "https://localhost:8080/",
          "height": 35
        }
      },
      "source": [
        "True != \"1\""
      ],
      "execution_count": 48,
      "outputs": [
        {
          "output_type": "execute_result",
          "data": {
            "text/plain": [
              "True"
            ]
          },
          "metadata": {
            "tags": []
          },
          "execution_count": 48
        }
      ]
    },
    {
      "cell_type": "code",
      "metadata": {
        "id": "Idp-XbkFSm84",
        "outputId": "a76955cf-6797-4cee-f39a-3e725d397ba0",
        "colab": {
          "base_uri": "https://localhost:8080/",
          "height": 35
        }
      },
      "source": [
        "True != 1"
      ],
      "execution_count": 49,
      "outputs": [
        {
          "output_type": "execute_result",
          "data": {
            "text/plain": [
              "False"
            ]
          },
          "metadata": {
            "tags": []
          },
          "execution_count": 49
        }
      ]
    },
    {
      "cell_type": "code",
      "metadata": {
        "id": "q-Bab6IESm0T",
        "outputId": "89988f15-634e-400a-f22e-9e031378e910",
        "colab": {
          "base_uri": "https://localhost:8080/",
          "height": 35
        }
      },
      "source": [
        "True and True"
      ],
      "execution_count": 50,
      "outputs": [
        {
          "output_type": "execute_result",
          "data": {
            "text/plain": [
              "True"
            ]
          },
          "metadata": {
            "tags": []
          },
          "execution_count": 50
        }
      ]
    },
    {
      "cell_type": "code",
      "metadata": {
        "id": "hgrtH-nuSyyy",
        "outputId": "68f6e76e-1f6e-4e6d-936b-739f47d37c2e",
        "colab": {
          "base_uri": "https://localhost:8080/",
          "height": 35
        }
      },
      "source": [
        "True and False"
      ],
      "execution_count": 51,
      "outputs": [
        {
          "output_type": "execute_result",
          "data": {
            "text/plain": [
              "False"
            ]
          },
          "metadata": {
            "tags": []
          },
          "execution_count": 51
        }
      ]
    },
    {
      "cell_type": "code",
      "metadata": {
        "id": "sO_HDAxqSyni",
        "outputId": "17fd62ce-0091-4de3-fc1d-20dc18c16714",
        "colab": {
          "base_uri": "https://localhost:8080/",
          "height": 35
        }
      },
      "source": [
        "True or False"
      ],
      "execution_count": 52,
      "outputs": [
        {
          "output_type": "execute_result",
          "data": {
            "text/plain": [
              "True"
            ]
          },
          "metadata": {
            "tags": []
          },
          "execution_count": 52
        }
      ]
    },
    {
      "cell_type": "code",
      "metadata": {
        "id": "FPFWUyPgSycO"
      },
      "source": [
        ""
      ],
      "execution_count": null,
      "outputs": []
    },
    {
      "cell_type": "markdown",
      "metadata": {
        "id": "Yg5Es_7rTFg1"
      },
      "source": [
        "# lists"
      ]
    },
    {
      "cell_type": "code",
      "metadata": {
        "id": "kv-Aq2QZGEoK",
        "outputId": "87370aad-c22d-4a42-d705-2f559dd788c3",
        "colab": {
          "base_uri": "https://localhost:8080/",
          "height": 35
        }
      },
      "source": [
        "lang = [\"python\", \"java\", \"c\"]\n",
        "lang"
      ],
      "execution_count": 6,
      "outputs": [
        {
          "output_type": "execute_result",
          "data": {
            "text/plain": [
              "['python', 'java', 'c']"
            ]
          },
          "metadata": {
            "tags": []
          },
          "execution_count": 6
        }
      ]
    },
    {
      "cell_type": "code",
      "metadata": {
        "id": "-G_2-JRhTQRV"
      },
      "source": [
        ""
      ],
      "execution_count": null,
      "outputs": []
    },
    {
      "cell_type": "markdown",
      "metadata": {
        "id": "4W4uKSN2TRIJ"
      },
      "source": [
        "# 제어문(조건문, 반복문)"
      ]
    },
    {
      "cell_type": "code",
      "metadata": {
        "id": "RqDXv1YXTfsP",
        "outputId": "6e925faa-08c9-44f6-dbbc-07b7e01e68e3",
        "colab": {
          "base_uri": "https://localhost:8080/",
          "height": 71
        }
      },
      "source": [
        "# 반복문을 이용해서 리스트의 원소를 하나씩 출력\n",
        "for i in lang:\n",
        "  print(i)\n"
      ],
      "execution_count": 54,
      "outputs": [
        {
          "output_type": "stream",
          "text": [
            "python\n",
            "java\n",
            "c\n"
          ],
          "name": "stdout"
        }
      ]
    },
    {
      "cell_type": "code",
      "metadata": {
        "id": "luXKcU_FT3vf",
        "outputId": "cc8e5608-70cc-450b-9062-81efc73e3f6c",
        "colab": {
          "base_uri": "https://localhost:8080/",
          "height": 71
        }
      },
      "source": [
        "# 위의 코드에서 python일때는 그대로 출력하고 나머지 텍스트는 \"기타\"라고 출력 \n",
        "for i in lang :\n",
        "    if i == \"python\" :\n",
        "      print(i)\n",
        "    else :\n",
        "      print(\"기타\")"
      ],
      "execution_count": 56,
      "outputs": [
        {
          "output_type": "stream",
          "text": [
            "python\n",
            "기타\n",
            "기타\n"
          ],
          "name": "stdout"
        }
      ]
    },
    {
      "cell_type": "code",
      "metadata": {
        "id": "mIJvlsxMT3no",
        "outputId": "6e928dd5-342a-4287-c7d8-c1fe46c9e726",
        "colab": {
          "base_uri": "https://localhost:8080/",
          "height": 107
        }
      },
      "source": [
        "# 특정 횟수만큼 반복문을 실행 \n",
        "for i in range(5):\n",
        "  print(i)"
      ],
      "execution_count": 57,
      "outputs": [
        {
          "output_type": "stream",
          "text": [
            "0\n",
            "1\n",
            "2\n",
            "3\n",
            "4\n"
          ],
          "name": "stdout"
        }
      ]
    },
    {
      "cell_type": "code",
      "metadata": {
        "id": "IKkdhajQT3cC",
        "outputId": "d6eca9a5-ff16-4b2e-a0cd-aa825ece4e14",
        "colab": {
          "base_uri": "https://localhost:8080/",
          "height": 179
        }
      },
      "source": [
        "# 짝수일 때 python을, 홀수일때는 java를 출력\n",
        "for i in range(1, 10):\n",
        "  if i % 2 == 0 :\n",
        "    print(\"python\")\n",
        "  else : \n",
        "    print(\"java\")"
      ],
      "execution_count": 58,
      "outputs": [
        {
          "output_type": "stream",
          "text": [
            "java\n",
            "python\n",
            "java\n",
            "python\n",
            "java\n",
            "python\n",
            "java\n",
            "python\n",
            "java\n"
          ],
          "name": "stdout"
        }
      ]
    },
    {
      "cell_type": "code",
      "metadata": {
        "id": "bEw7DJDdVTco",
        "outputId": "375922ab-8a0a-4569-b6a7-3e60055a5c29",
        "colab": {
          "base_uri": "https://localhost:8080/",
          "height": 179
        }
      },
      "source": [
        "for i in range(1, 10) :\n",
        "  if i % 2 == 0 :\n",
        "    print(0)\n",
        "  else:\n",
        "    print(1)"
      ],
      "execution_count": 59,
      "outputs": [
        {
          "output_type": "stream",
          "text": [
            "1\n",
            "0\n",
            "1\n",
            "0\n",
            "1\n",
            "0\n",
            "1\n",
            "0\n",
            "1\n"
          ],
          "name": "stdout"
        }
      ]
    },
    {
      "cell_type": "code",
      "metadata": {
        "id": "NBRo33UaGElF",
        "outputId": "b249c430-c2b6-4fb6-d551-3543ea0d7735",
        "colab": {
          "base_uri": "https://localhost:8080/",
          "height": 71
        }
      },
      "source": [
        "# enumerate를 사용하면 인덱스 번호와 원소를 같이 가져올 수 있다. \n",
        "for i in enumerate(lang):\n",
        "    print(i)"
      ],
      "execution_count": 8,
      "outputs": [
        {
          "output_type": "stream",
          "text": [
            "(0, 'python')\n",
            "(1, 'java')\n",
            "(2, 'c')\n"
          ],
          "name": "stdout"
        }
      ]
    },
    {
      "cell_type": "code",
      "metadata": {
        "id": "XhKUHlDuIkNo",
        "outputId": "e818e31f-ab27-49e0-ea19-b870e2399a2b",
        "colab": {
          "base_uri": "https://localhost:8080/",
          "height": 71
        }
      },
      "source": [
        "for i, val in enumerate(lang) :\n",
        "    print(i, val)"
      ],
      "execution_count": 11,
      "outputs": [
        {
          "output_type": "stream",
          "text": [
            "0 python\n",
            "1 java\n",
            "2 c\n"
          ],
          "name": "stdout"
        }
      ]
    },
    {
      "cell_type": "code",
      "metadata": {
        "id": "w4qvz8iEIk4F"
      },
      "source": [
        ""
      ],
      "execution_count": null,
      "outputs": []
    },
    {
      "cell_type": "markdown",
      "metadata": {
        "id": "JW0SGGscVl5W"
      },
      "source": [
        "# 문자열"
      ]
    },
    {
      "cell_type": "markdown",
      "metadata": {
        "id": "0_RvHHFaJWZS"
      },
      "source": [
        "주소를 address변수에 담아준다. 앞 뒤에 의도적으로 공백 추가\n",
        "\n"
      ]
    },
    {
      "cell_type": "code",
      "metadata": {
        "id": "8ptSdqF-JdQ3",
        "outputId": "9a31de6f-82c9-4325-f306-b2be3587ff0c",
        "colab": {
          "base_uri": "https://localhost:8080/",
          "height": 35
        }
      },
      "source": [
        "address = \" 경기도 성남시 분당구 불정로 6 naver 그린팩토리 16층 \"\n",
        "address"
      ],
      "execution_count": 12,
      "outputs": [
        {
          "output_type": "execute_result",
          "data": {
            "application/vnd.google.colaboratory.intrinsic+json": {
              "type": "string"
            },
            "text/plain": [
              "' 경기도 성남시 분당구 불정로 6 naver 그린팩토리 16층 '"
            ]
          },
          "metadata": {
            "tags": []
          },
          "execution_count": 12
        }
      ]
    },
    {
      "cell_type": "markdown",
      "metadata": {
        "id": "F07QtwuzV07n"
      },
      "source": [
        "# strip, in, startswith, in, 슬라이싱"
      ]
    },
    {
      "cell_type": "code",
      "metadata": {
        "id": "4I6RwkUNJ04F",
        "outputId": "2a3ad435-cc1e-4a60-8778-f5b5ac8c8df6",
        "colab": {
          "base_uri": "https://localhost:8080/",
          "height": 35
        }
      },
      "source": [
        "# strip를 사용하여 앞뒤 공백 제거 \n",
        "\n",
        "address.strip()\n",
        "address"
      ],
      "execution_count": 17,
      "outputs": [
        {
          "output_type": "execute_result",
          "data": {
            "application/vnd.google.colaboratory.intrinsic+json": {
              "type": "string"
            },
            "text/plain": [
              "'경기도 성남시 분당구 불정로 6 naver 그린팩토리 16층'"
            ]
          },
          "metadata": {
            "tags": []
          },
          "execution_count": 17
        }
      ]
    },
    {
      "cell_type": "code",
      "metadata": {
        "id": "2OOch65jJ00P",
        "outputId": "6730aad3-c6d9-43dc-c3e5-5f1f8157e539",
        "colab": {
          "base_uri": "https://localhost:8080/",
          "height": 35
        }
      },
      "source": [
        "# 하지만 변수에 저장해주지 않으면 공백은 사라지지 않는다 \n",
        "\n",
        "address = address.strip()\n",
        "address"
      ],
      "execution_count": 16,
      "outputs": [
        {
          "output_type": "execute_result",
          "data": {
            "application/vnd.google.colaboratory.intrinsic+json": {
              "type": "string"
            },
            "text/plain": [
              "'경기도 성남시 분당구 불정로 6 naver 그린팩토리 16층'"
            ]
          },
          "metadata": {
            "tags": []
          },
          "execution_count": 16
        }
      ]
    },
    {
      "cell_type": "code",
      "metadata": {
        "id": "-JYCejgVJ0yl",
        "outputId": "c13e9da5-f623-470f-9572-d2ee0efd8624",
        "colab": {
          "base_uri": "https://localhost:8080/",
          "height": 35
        }
      },
      "source": [
        "# 문자열의 길이 확인 \n",
        "len(address)"
      ],
      "execution_count": 18,
      "outputs": [
        {
          "output_type": "execute_result",
          "data": {
            "text/plain": [
              "33"
            ]
          },
          "metadata": {
            "tags": []
          },
          "execution_count": 18
        }
      ]
    },
    {
      "cell_type": "code",
      "metadata": {
        "id": "T7NlwvlEJz2J",
        "outputId": "8ad6fd22-728c-495b-cba5-4735a153015a",
        "colab": {
          "base_uri": "https://localhost:8080/",
          "height": 35
        }
      },
      "source": [
        "# 공백으로 문자열 분리 \n",
        "address.split()"
      ],
      "execution_count": 20,
      "outputs": [
        {
          "output_type": "execute_result",
          "data": {
            "text/plain": [
              "['경기도', '성남시', '분당구', '불정로', '6', 'naver', '그린팩토리', '16층']"
            ]
          },
          "metadata": {
            "tags": []
          },
          "execution_count": 20
        }
      ]
    },
    {
      "cell_type": "code",
      "metadata": {
        "id": "Nb8dL2nILIHy",
        "outputId": "32f847f3-b378-4972-931d-6779e6be7062",
        "colab": {
          "base_uri": "https://localhost:8080/",
          "height": 35
        }
      },
      "source": [
        "address.split(\"시\")"
      ],
      "execution_count": 22,
      "outputs": [
        {
          "output_type": "execute_result",
          "data": {
            "text/plain": [
              "['경기도 성남', ' 분당구 불정로 6 naver 그린팩토리 16층']"
            ]
          },
          "metadata": {
            "tags": []
          },
          "execution_count": 22
        }
      ]
    },
    {
      "cell_type": "code",
      "metadata": {
        "id": "dcIHXGH_LITn",
        "outputId": "51801906-7a02-4a3d-bea7-4fe7d9eb4dfb",
        "colab": {
          "base_uri": "https://localhost:8080/",
          "height": 35
        }
      },
      "source": [
        "address.split(\" \")"
      ],
      "execution_count": 24,
      "outputs": [
        {
          "output_type": "execute_result",
          "data": {
            "text/plain": [
              "['경기도', '성남시', '분당구', '불정로', '6', 'naver', '그린팩토리', '16층']"
            ]
          },
          "metadata": {
            "tags": []
          },
          "execution_count": 24
        }
      ]
    },
    {
      "cell_type": "code",
      "metadata": {
        "id": "nHsv9XLWLIf8",
        "outputId": "c9a11307-9854-4d0c-e504-2b3a4cfb509d",
        "colab": {
          "base_uri": "https://localhost:8080/",
          "height": 35
        }
      },
      "source": [
        "address_list = address.split()\n",
        "address_list"
      ],
      "execution_count": 25,
      "outputs": [
        {
          "output_type": "execute_result",
          "data": {
            "text/plain": [
              "['경기도', '성남시', '분당구', '불정로', '6', 'naver', '그린팩토리', '16층']"
            ]
          },
          "metadata": {
            "tags": []
          },
          "execution_count": 25
        }
      ]
    },
    {
      "cell_type": "code",
      "metadata": {
        "id": "DJWhDL0eLIa0",
        "outputId": "788f72c8-da7b-4b94-f800-749bcdbb5204",
        "colab": {
          "base_uri": "https://localhost:8080/",
          "height": 35
        }
      },
      "source": [
        "# 슬라이싱으로 문자 가져오기 \n",
        "address[:2]"
      ],
      "execution_count": 26,
      "outputs": [
        {
          "output_type": "execute_result",
          "data": {
            "application/vnd.google.colaboratory.intrinsic+json": {
              "type": "string"
            },
            "text/plain": [
              "'경기'"
            ]
          },
          "metadata": {
            "tags": []
          },
          "execution_count": 26
        }
      ]
    },
    {
      "cell_type": "markdown",
      "metadata": {
        "id": "xfUBY9BrX1gw"
      },
      "source": [
        "# startswith & endswith"
      ]
    },
    {
      "cell_type": "code",
      "metadata": {
        "id": "RNcPaIgfLIY3",
        "outputId": "f8cbdc76-2289-4fe5-a5ec-6abc36d65f90",
        "colab": {
          "base_uri": "https://localhost:8080/",
          "height": 35
        }
      },
      "source": [
        "# startswith를 사용하면 어떤 문자로 시작됐는지 여부 확인 가능 \n",
        "address.startswith(\"경기\")"
      ],
      "execution_count": 28,
      "outputs": [
        {
          "output_type": "execute_result",
          "data": {
            "text/plain": [
              "True"
            ]
          },
          "metadata": {
            "tags": []
          },
          "execution_count": 28
        }
      ]
    },
    {
      "cell_type": "code",
      "metadata": {
        "id": "G50HsSsPXFTK",
        "outputId": "ef593052-c4c2-478d-f235-ce40414c2308",
        "colab": {
          "base_uri": "https://localhost:8080/",
          "height": 35
        }
      },
      "source": [
        "a = \"notebook\"\n",
        "a.startswith(\"n\")"
      ],
      "execution_count": 61,
      "outputs": [
        {
          "output_type": "execute_result",
          "data": {
            "text/plain": [
              "True"
            ]
          },
          "metadata": {
            "tags": []
          },
          "execution_count": 61
        }
      ]
    },
    {
      "cell_type": "code",
      "metadata": {
        "id": "SmNjXr9yXFHM",
        "outputId": "a148720e-26ec-4dec-d09c-8297ae347e77",
        "colab": {
          "base_uri": "https://localhost:8080/",
          "height": 35
        }
      },
      "source": [
        "# endswith를 사용하면 어떤 문자로 끝났는지를 여부를 확인 가능 \n",
        "a.endswith(\"s\")"
      ],
      "execution_count": 63,
      "outputs": [
        {
          "output_type": "execute_result",
          "data": {
            "text/plain": [
              "False"
            ]
          },
          "metadata": {
            "tags": []
          },
          "execution_count": 63
        }
      ]
    },
    {
      "cell_type": "code",
      "metadata": {
        "id": "2QgFJfoPXruL",
        "outputId": "738f2715-af02-43df-951f-6b618a73579c",
        "colab": {
          "base_uri": "https://localhost:8080/",
          "height": 35
        }
      },
      "source": [
        "a.endswith(\"k\")"
      ],
      "execution_count": 64,
      "outputs": [
        {
          "output_type": "execute_result",
          "data": {
            "text/plain": [
              "True"
            ]
          },
          "metadata": {
            "tags": []
          },
          "execution_count": 64
        }
      ]
    },
    {
      "cell_type": "code",
      "metadata": {
        "id": "9bTrrjRYNysL",
        "outputId": "0ac7ff08-4221-4b71-aceb-acf42a92d535",
        "colab": {
          "base_uri": "https://localhost:8080/",
          "height": 35
        }
      },
      "source": [
        "# in 을 사용하게 되면 특정 문자열을 포함하고 있는지 여부 확인 가능 \n",
        "\"경기\" in address"
      ],
      "execution_count": 29,
      "outputs": [
        {
          "output_type": "execute_result",
          "data": {
            "text/plain": [
              "True"
            ]
          },
          "metadata": {
            "tags": []
          },
          "execution_count": 29
        }
      ]
    },
    {
      "cell_type": "code",
      "metadata": {
        "id": "Y5M-QplHNzdD"
      },
      "source": [
        ""
      ],
      "execution_count": null,
      "outputs": []
    },
    {
      "cell_type": "markdown",
      "metadata": {
        "id": "QU0xsxfUOH8a"
      },
      "source": [
        "# 리스트"
      ]
    },
    {
      "cell_type": "code",
      "metadata": {
        "id": "vWHsc8abOLVL",
        "outputId": "4ab5efe9-899a-4df9-af2b-3bdb2cb3ebea",
        "colab": {
          "base_uri": "https://localhost:8080/",
          "height": 35
        }
      },
      "source": [
        "# 인덱싱으로 리스트의 원소 가져오기 - 주소에서 구를 가져와 gu라는 변수에 담아라.\n",
        "address_list"
      ],
      "execution_count": 30,
      "outputs": [
        {
          "output_type": "execute_result",
          "data": {
            "text/plain": [
              "['경기도', '성남시', '분당구', '불정로', '6', 'naver', '그린팩토리', '16층']"
            ]
          },
          "metadata": {
            "tags": []
          },
          "execution_count": 30
        }
      ]
    },
    {
      "cell_type": "code",
      "metadata": {
        "id": "E7Cnv9MVPA2W",
        "outputId": "78bd021c-449a-42f9-84d3-e6b68b3cf208",
        "colab": {
          "base_uri": "https://localhost:8080/",
          "height": 35
        }
      },
      "source": [
        "gu = address_list[2]\n",
        "gu"
      ],
      "execution_count": 34,
      "outputs": [
        {
          "output_type": "execute_result",
          "data": {
            "application/vnd.google.colaboratory.intrinsic+json": {
              "type": "string"
            },
            "text/plain": [
              "'분당구'"
            ]
          },
          "metadata": {
            "tags": []
          },
          "execution_count": 34
        }
      ]
    },
    {
      "cell_type": "code",
      "metadata": {
        "id": "fg4o3hzZPG_7",
        "outputId": "f5b2eabf-4ad4-4b8a-caad-20ba345de2f5",
        "colab": {
          "base_uri": "https://localhost:8080/",
          "height": 35
        }
      },
      "source": [
        "# 인덱싱으로 리스트의 원소 가져오기 - 주소에서 도로명을 가져와 street 라는 변수에 담기 \n",
        "street = address_list [3]\n",
        "street"
      ],
      "execution_count": 35,
      "outputs": [
        {
          "output_type": "execute_result",
          "data": {
            "application/vnd.google.colaboratory.intrinsic+json": {
              "type": "string"
            },
            "text/plain": [
              "'불정로'"
            ]
          },
          "metadata": {
            "tags": []
          },
          "execution_count": 35
        }
      ]
    },
    {
      "cell_type": "code",
      "metadata": {
        "id": "leIXnHn0Pv1u",
        "outputId": "1f04738f-9806-4521-afc8-9bd174eb8249",
        "colab": {
          "base_uri": "https://localhost:8080/",
          "height": 35
        }
      },
      "source": [
        "# \" \".join(리스트)를 사용하면 리스트의 공백 문자열을 연결 할 수 있다\n",
        "# 리스트로 분리된 문자열을 다시 연결하기 \n",
        "\n",
        "\"\".join(address_list)"
      ],
      "execution_count": 38,
      "outputs": [
        {
          "output_type": "execute_result",
          "data": {
            "application/vnd.google.colaboratory.intrinsic+json": {
              "type": "string"
            },
            "text/plain": [
              "'경기도성남시분당구불정로6naver그린팩토리16층'"
            ]
          },
          "metadata": {
            "tags": []
          },
          "execution_count": 38
        }
      ]
    },
    {
      "cell_type": "code",
      "metadata": {
        "id": "RI8fVlEmQNbf",
        "outputId": "b620b822-7de6-414e-a6df-acc552869bc5",
        "colab": {
          "base_uri": "https://localhost:8080/",
          "height": 35
        }
      },
      "source": [
        "\" \".join(address_list)"
      ],
      "execution_count": 39,
      "outputs": [
        {
          "output_type": "execute_result",
          "data": {
            "application/vnd.google.colaboratory.intrinsic+json": {
              "type": "string"
            },
            "text/plain": [
              "'경기도 성남시 분당구 불정로 6 naver 그린팩토리 16층'"
            ]
          },
          "metadata": {
            "tags": []
          },
          "execution_count": 39
        }
      ]
    },
    {
      "cell_type": "code",
      "metadata": {
        "id": "J4FoPUGOQiM2",
        "outputId": "ef3d7c26-eea4-43e7-d706-93bf17c26ca6",
        "colab": {
          "base_uri": "https://localhost:8080/",
          "height": 35
        }
      },
      "source": [
        "\"_\".join(address_list)"
      ],
      "execution_count": 40,
      "outputs": [
        {
          "output_type": "execute_result",
          "data": {
            "application/vnd.google.colaboratory.intrinsic+json": {
              "type": "string"
            },
            "text/plain": [
              "'경기도_성남시_분당구_불정로_6_naver_그린팩토리_16층'"
            ]
          },
          "metadata": {
            "tags": []
          },
          "execution_count": 40
        }
      ]
    },
    {
      "cell_type": "code",
      "metadata": {
        "id": "-b57yHRQQnAX",
        "outputId": "5e5cda0d-1338-43f3-d8a2-91054b359987",
        "colab": {
          "base_uri": "https://localhost:8080/",
          "height": 35
        }
      },
      "source": [
        "\"*\".join(address_list)"
      ],
      "execution_count": 41,
      "outputs": [
        {
          "output_type": "execute_result",
          "data": {
            "application/vnd.google.colaboratory.intrinsic+json": {
              "type": "string"
            },
            "text/plain": [
              "'경기도*성남시*분당구*불정로*6*naver*그린팩토리*16층'"
            ]
          },
          "metadata": {
            "tags": []
          },
          "execution_count": 41
        }
      ]
    },
    {
      "cell_type": "code",
      "metadata": {
        "id": "lHYdiJ_sQtIj",
        "outputId": "4ddcb3dc-0690-4693-99bf-021ab588b340",
        "colab": {
          "base_uri": "https://localhost:8080/",
          "height": 35
        }
      },
      "source": [
        "# in 을 사용하게 되면 리스트에 해당 데이터를 포함하고 있는지 여부를 확인 가능 \n",
        "# \"경기\"가 리스트에 포함되었는지 확인해보기\n",
        "\"경기\" in address_list"
      ],
      "execution_count": 43,
      "outputs": [
        {
          "output_type": "execute_result",
          "data": {
            "text/plain": [
              "False"
            ]
          },
          "metadata": {
            "tags": []
          },
          "execution_count": 43
        }
      ]
    },
    {
      "cell_type": "code",
      "metadata": {
        "id": "I35lKbXzQ_d9",
        "outputId": "cf4d3e27-033b-49aa-fc01-13f02d91cafa",
        "colab": {
          "base_uri": "https://localhost:8080/",
          "height": 35
        }
      },
      "source": [
        "\"경기도\" in address_list"
      ],
      "execution_count": 44,
      "outputs": [
        {
          "output_type": "execute_result",
          "data": {
            "text/plain": [
              "True"
            ]
          },
          "metadata": {
            "tags": []
          },
          "execution_count": 44
        }
      ]
    }
  ]
}