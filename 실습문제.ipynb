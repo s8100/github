{
  "nbformat": 4,
  "nbformat_minor": 0,
  "metadata": {
    "colab": {
      "name": "실습문제.ipynb",
      "provenance": [],
      "collapsed_sections": [],
      "toc_visible": true,
      "authorship_tag": "ABX9TyNQv4osCVISbIxDXs1lBhfd",
      "include_colab_link": true
    },
    "kernelspec": {
      "name": "python3",
      "display_name": "Python 3"
    }
  },
  "cells": [
    {
      "cell_type": "markdown",
      "metadata": {
        "id": "view-in-github",
        "colab_type": "text"
      },
      "source": [
        "<a href=\"https://colab.research.google.com/github/songik/Code_Practice/blob/master/%EC%8B%A4%EC%8A%B5%EB%AC%B8%EC%A0%9C.ipynb\" target=\"_parent\"><img src=\"https://colab.research.google.com/assets/colab-badge.svg\" alt=\"Open In Colab\"/></a>"
      ]
    },
    {
      "cell_type": "markdown",
      "metadata": {
        "id": "ZS3MORIlOp_U"
      },
      "source": [
        ""
      ]
    },
    {
      "cell_type": "markdown",
      "metadata": {
        "id": "lQir92uKOqu-"
      },
      "source": [
        "# **실습1**"
      ]
    },
    {
      "cell_type": "code",
      "metadata": {
        "id": "pwuj4DKmqNMF",
        "outputId": "ecf00b2b-85c1-4b8b-a9e4-7e6742c2ab6a",
        "colab": {
          "base_uri": "https://localhost:8080/"
        }
      },
      "source": [
        "a = input('첫 번째 숫자: ')\n",
        "b = input('두 번째 숫자: ')\n",
        "\n",
        "a=int(a)\n",
        "b=int(b)\n",
        "\n",
        "print(f'덧셈: {a} + {b} = {a+b}')\n",
        "print(f'뺄셈: {a} - {b} = {a-b}')\n",
        "print(f'곱셈: {a} * {b} = {a*b}')\n",
        "print(f'몫: {a} // {b} = {a//b}')\n",
        "print(f'나머지: {a} % {b} = {a%b}')"
      ],
      "execution_count": null,
      "outputs": [
        {
          "output_type": "stream",
          "text": [
            "첫 번째 숫자: 50\n",
            "두 번째 숫자: 3\n",
            "덧셈: 50 + 3 = 53\n",
            "뺄셈: 50 - 3 = 47\n",
            "곱셈: 50 * 3 = 150\n",
            "몫: 50 // 3 = 16\n",
            "나머지: 50 % 3 = 2\n"
          ],
          "name": "stdout"
        }
      ]
    },
    {
      "cell_type": "code",
      "metadata": {
        "id": "HmqsWT1EqPt5",
        "outputId": "4a746661-52cc-4efd-98d4-13aab8579d5e",
        "colab": {
          "base_uri": "https://localhost:8080/"
        }
      },
      "source": [
        "a = input('속도 : ' )\n",
        "b = input('거리 : ' )\n",
        "\n",
        "a = int(a)\n",
        "b = int(b)\n",
        "c = b/a\n",
        "\n",
        "print('속도=', a)\n",
        "print('거리=', b)\n",
        "print(f'시간 = {b} / {a} = {c}')"
      ],
      "execution_count": null,
      "outputs": [
        {
          "output_type": "stream",
          "text": [
            "속도 : 200\n",
            "거리 : 50\n",
            "속도= 200\n",
            "거리= 50\n",
            "시간 = 50 / 200 = 0.25\n"
          ],
          "name": "stdout"
        }
      ]
    },
    {
      "cell_type": "code",
      "metadata": {
        "id": "xFkKaMKgvLFU",
        "outputId": "4876f128-890a-499e-a2d0-676ab0b1d392",
        "colab": {
          "base_uri": "https://localhost:8080/"
        }
      },
      "source": [
        "a=input(\"길이 : \")\n",
        "b=input(\"너비 : \")\n",
        "\n",
        "a=int(a)\n",
        "b=int(b)\n",
        "\n",
        "c=a*b\n",
        "d=a*2+b*2\n",
        "\n",
        "print(f'{a} * {b} = {c}')\n",
        "print(f'{a}*2 + {b}*2 = {d}')"
      ],
      "execution_count": null,
      "outputs": [
        {
          "output_type": "stream",
          "text": [
            "길이 : 100\n",
            "너비 : 20\n",
            "100 * 20 = 2000\n",
            "100*2 + 20*2 = 240\n"
          ],
          "name": "stdout"
        }
      ]
    },
    {
      "cell_type": "code",
      "metadata": {
        "id": "MItj7KEh-RJs",
        "outputId": "2179db1c-3e33-4a9c-9c07-b424ddf2f010",
        "colab": {
          "base_uri": "https://localhost:8080/"
        }
      },
      "source": [
        "a=int(input(\"길이 : \"))\n",
        "b=int(input(\"너비 : \"))\n",
        "\n",
        "c=a*b\n",
        "d=a*2+b*2\n",
        "\n",
        "print(f'{a} * {b} = {c}')\n",
        "print(f'{a}*2 + {b}*2 = {d}')"
      ],
      "execution_count": null,
      "outputs": [
        {
          "output_type": "stream",
          "text": [
            "길이 : 100\n",
            "너비 : 20\n",
            "100 * 20 = 2000\n",
            "100*2 + 20*2 = 240\n"
          ],
          "name": "stdout"
        }
      ]
    },
    {
      "cell_type": "markdown",
      "metadata": {
        "id": "0FylYRxgOjM0"
      },
      "source": [
        "# **실습2**"
      ]
    },
    {
      "cell_type": "code",
      "metadata": {
        "id": "-m5flvDYCaiL",
        "outputId": "7ae90fd2-6a24-495b-e6b9-cb05ee7834b2",
        "colab": {
          "base_uri": "https://localhost:8080/"
        }
      },
      "source": [
        "m = int(input('금액 : '))\n",
        "\n",
        "c500 = m // 500\n",
        "money = m % 500\n",
        "\n",
        "c100 = money // 100\n",
        "money = money % 100\n",
        "\n",
        "c50 = money // 50\n",
        "money = money % 50\n",
        "\n",
        "c10 = money // 10\n",
        "money = money % 10\n",
        "\n",
        "print(f'500원짜리 ==> {c500}개')\n",
        "print(f'100원짜리 ==> {c100}개')\n",
        "print(f'50원짜리 ==> {c50}개')\n",
        "print(f'10원자리 ==> {c10}개')\n",
        "print(f'잔돈 ==> {money}원')"
      ],
      "execution_count": null,
      "outputs": [
        {
          "output_type": "stream",
          "text": [
            "금액 : 4321\n",
            "500원짜리 ==> 8개\n",
            "100원짜리 ==> 3개\n",
            "50원짜리 ==> 0개\n",
            "10원자리 ==> 2개\n",
            "잔돈 ==> 1원\n"
          ],
          "name": "stdout"
        }
      ]
    },
    {
      "cell_type": "code",
      "metadata": {
        "id": "rMv6QAHGNtHn",
        "outputId": "dac387db-14b5-474b-f99d-1d7fccf35198",
        "colab": {
          "base_uri": "https://localhost:8080/"
        }
      },
      "source": [
        "m = int(input('돈 : '))\n",
        "\n",
        "m50000 = m // 50000\n",
        "money = m % 50000\n",
        "\n",
        "m10000 = money // 10000\n",
        "money = money % 10000\n",
        "\n",
        "m5000 = money // 5000\n",
        "money = money % 5000\n",
        "\n",
        "m1000 = money // 1000\n",
        "money = money % 1000\n",
        "\n",
        "c500 = money // 500\n",
        "money = money % 500\n",
        "\n",
        "c100 = money // 100\n",
        "money = money % 100\n",
        "\n",
        "c50 = money // 50\n",
        "money = money % 50\n",
        "        \n",
        "c10 = money // 10\n",
        "money = money % 10\n",
        "\n",
        "print(f'지폐 : 50000원 {m50000}장, 10000원 {m10000}장, 5000원 {m5000}장, 1000원 {m1000}장')\n",
        "print(f'동전 : 500원 {c500}개, 100원 {c100}개, 50원 {c50}개, 10원 {c10}개')\n",
        "print(f'잔돈 : {money}원')  "
      ],
      "execution_count": null,
      "outputs": [
        {
          "output_type": "stream",
          "text": [
            "돈 : 657890\n",
            "지폐 : 50000원 13장, 10000원 0장, 5000원 1장, 1000원 2장\n",
            "동전 : 500원 1개, 100원 3개, 50원 1개, 10원 4개\n",
            "잔돈 : 0원\n"
          ],
          "name": "stdout"
        }
      ]
    },
    {
      "cell_type": "code",
      "metadata": {
        "id": "frj26q_VYrJC",
        "outputId": "0da82cd8-914c-458e-c755-485754c011f9",
        "colab": {
          "base_uri": "https://localhost:8080/"
        }
      },
      "source": [
        "x = int(input('숫자 입력 : '))\n",
        "\n",
        "if x % 2 == 0 :\n",
        "    print(f'입력된 수 : {x} ===> 짝수')\n",
        "\n",
        "else :\n",
        "    print(f'입력된 수 : {x} ===>  홀수')"
      ],
      "execution_count": null,
      "outputs": [
        {
          "output_type": "stream",
          "text": [
            "숫자 입력 : 47\n",
            "입력된 수 : 47 ===>  홀수\n"
          ],
          "name": "stdout"
        }
      ]
    },
    {
      "cell_type": "code",
      "metadata": {
        "id": "1v8kXrYIcREg",
        "outputId": "727c6ba9-d570-4af4-8bfb-dac2c6d6b330",
        "colab": {
          "base_uri": "https://localhost:8080/"
        }
      },
      "source": [
        "x = int(input('성적 입력 : '))\n",
        "\n",
        "if x >  89 :\n",
        "    print(f'성적 : {x}는 A등급 입니다.')\n",
        "elif 80 <= x < 90 :\n",
        "    print(f'성적 : {x}는 B등급 입니다.')\n",
        "elif 70 <= x < 80 :\n",
        "    print(f'성적 : {x}는 C등급 입니다.')   \n",
        "else :\n",
        "    print(f'성적 : {x}는 D등급 입니다.')   \n",
        "        "
      ],
      "execution_count": null,
      "outputs": [
        {
          "output_type": "stream",
          "text": [
            "성적 입력 : 79\n",
            "성적 : 79는 C등급 입니다.\n"
          ],
          "name": "stdout"
        }
      ]
    },
    {
      "cell_type": "code",
      "metadata": {
        "id": "sdZZWF1Sd_bf",
        "outputId": "aa24bc55-2f9b-438f-f0ef-86700028b75a",
        "colab": {
          "base_uri": "https://localhost:8080/"
        }
      },
      "source": [
        "a = 0\n",
        "\n",
        "for i in range(1, 11) :\n",
        "    a = a+i\n",
        "\n",
        "print(a)"
      ],
      "execution_count": null,
      "outputs": [
        {
          "output_type": "stream",
          "text": [
            "55\n"
          ],
          "name": "stdout"
        }
      ]
    },
    {
      "cell_type": "code",
      "metadata": {
        "id": "jiSBA4fPoJLy",
        "outputId": "906c1b0e-48e2-4e21-dec1-c5aaa347628e",
        "colab": {
          "base_uri": "https://localhost:8080/"
        }
      },
      "source": [
        "n = int(input('숫자 입력 : '))\n",
        "h = 0\n",
        "\n",
        "for i in range(1, n+1) :\n",
        "    h = h+i\n",
        "\n",
        "print(f'1 ~ {n}까지의 합은 : {h}')"
      ],
      "execution_count": null,
      "outputs": [
        {
          "output_type": "stream",
          "text": [
            "숫자 입력 : 100\n",
            "1 ~ 100까지의 합은 : 5050\n"
          ],
          "name": "stdout"
        }
      ]
    },
    {
      "cell_type": "code",
      "metadata": {
        "id": "vL5d3qrIqLvw",
        "outputId": "1bd034ef-63f2-4ac7-a01b-53770da773c7",
        "colab": {
          "base_uri": "https://localhost:8080/"
        }
      },
      "source": [
        "n = int(input('숫자 입력 : '))\n",
        "h = 0\n",
        "\n",
        "for i in range(1, n+1) :\n",
        "    if i % 2 == 0 :\n",
        "        h = h \n",
        "    else :\n",
        "        h = h+i\n",
        "\n",
        "print(f'1 ~ {n}까지 짝수를 제외한의 합은 : {h}')"
      ],
      "execution_count": null,
      "outputs": [
        {
          "output_type": "stream",
          "text": [
            "숫자 입력 : 100\n",
            "1 ~ 100까지 짝수를 제외한의 합은 : 2500\n"
          ],
          "name": "stdout"
        }
      ]
    },
    {
      "cell_type": "code",
      "metadata": {
        "id": "AkOyzfTkq9Yg",
        "outputId": "f3760700-3f47-4007-e50f-122b54fd45cb",
        "colab": {
          "base_uri": "https://localhost:8080/"
        }
      },
      "source": [
        "n = int(input('몇 단을 출력할까요? : '))\n",
        "\n",
        "for i in range(1, 10) :\n",
        "    p = n * i \n",
        "    print(f'{n} x {i} = {p}')"
      ],
      "execution_count": null,
      "outputs": [
        {
          "output_type": "stream",
          "text": [
            "몇 단을 출력할까요? : 5\n",
            "5 x 1 = 5\n",
            "5 x 2 = 10\n",
            "5 x 3 = 15\n",
            "5 x 4 = 20\n",
            "5 x 5 = 25\n",
            "5 x 6 = 30\n",
            "5 x 7 = 35\n",
            "5 x 8 = 40\n",
            "5 x 9 = 45\n"
          ],
          "name": "stdout"
        }
      ]
    },
    {
      "cell_type": "code",
      "metadata": {
        "id": "UZqTebiE4Kkj",
        "outputId": "26f600d5-19ca-468a-ebc6-152ed31d02ae",
        "colab": {
          "base_uri": "https://localhost:8080/"
        }
      },
      "source": [
        "for i in range(2, 10) :\n",
        "    for k in range(1, 10) :\n",
        "        p = i * k\n",
        "        print(f'{i} x {k} = {p}')"
      ],
      "execution_count": null,
      "outputs": [
        {
          "output_type": "stream",
          "text": [
            "2 x 1 = 2\n",
            "2 x 2 = 4\n",
            "2 x 3 = 6\n",
            "2 x 4 = 8\n",
            "2 x 5 = 10\n",
            "2 x 6 = 12\n",
            "2 x 7 = 14\n",
            "2 x 8 = 16\n",
            "2 x 9 = 18\n",
            "3 x 1 = 3\n",
            "3 x 2 = 6\n",
            "3 x 3 = 9\n",
            "3 x 4 = 12\n",
            "3 x 5 = 15\n",
            "3 x 6 = 18\n",
            "3 x 7 = 21\n",
            "3 x 8 = 24\n",
            "3 x 9 = 27\n",
            "4 x 1 = 4\n",
            "4 x 2 = 8\n",
            "4 x 3 = 12\n",
            "4 x 4 = 16\n",
            "4 x 5 = 20\n",
            "4 x 6 = 24\n",
            "4 x 7 = 28\n",
            "4 x 8 = 32\n",
            "4 x 9 = 36\n",
            "5 x 1 = 5\n",
            "5 x 2 = 10\n",
            "5 x 3 = 15\n",
            "5 x 4 = 20\n",
            "5 x 5 = 25\n",
            "5 x 6 = 30\n",
            "5 x 7 = 35\n",
            "5 x 8 = 40\n",
            "5 x 9 = 45\n",
            "6 x 1 = 6\n",
            "6 x 2 = 12\n",
            "6 x 3 = 18\n",
            "6 x 4 = 24\n",
            "6 x 5 = 30\n",
            "6 x 6 = 36\n",
            "6 x 7 = 42\n",
            "6 x 8 = 48\n",
            "6 x 9 = 54\n",
            "7 x 1 = 7\n",
            "7 x 2 = 14\n",
            "7 x 3 = 21\n",
            "7 x 4 = 28\n",
            "7 x 5 = 35\n",
            "7 x 6 = 42\n",
            "7 x 7 = 49\n",
            "7 x 8 = 56\n",
            "7 x 9 = 63\n",
            "8 x 1 = 8\n",
            "8 x 2 = 16\n",
            "8 x 3 = 24\n",
            "8 x 4 = 32\n",
            "8 x 5 = 40\n",
            "8 x 6 = 48\n",
            "8 x 7 = 56\n",
            "8 x 8 = 64\n",
            "8 x 9 = 72\n",
            "9 x 1 = 9\n",
            "9 x 2 = 18\n",
            "9 x 3 = 27\n",
            "9 x 4 = 36\n",
            "9 x 5 = 45\n",
            "9 x 6 = 54\n",
            "9 x 7 = 63\n",
            "9 x 8 = 72\n",
            "9 x 9 = 81\n"
          ],
          "name": "stdout"
        }
      ]
    },
    {
      "cell_type": "code",
      "metadata": {
        "id": "88iyx2Yb4RaM",
        "outputId": "8d5ba121-ef81-4126-8a8e-433cdf92005b",
        "colab": {
          "base_uri": "https://localhost:8080/"
        }
      },
      "source": [
        "#### 추후 다시 확인 \n",
        "\n",
        "gugudan = \"\"\n",
        "\n",
        "for i in range(2, 10) :    \n",
        "    gugudan = gugudan + (\"# %d단  \" % i)\n",
        "\n",
        "print(gugudan)\n",
        "\n",
        "for i in range(1, 10) :\n",
        "    gugudan = \"\" \n",
        "    for k in range(2, 10) :\n",
        "        gugudan = gugudan + str(\"%dx%d=%2d \" % (k, i, k*i))\n",
        "    print(gugudan)"
      ],
      "execution_count": null,
      "outputs": [
        {
          "output_type": "stream",
          "text": [
            "# 2단  # 3단  # 4단  # 5단  # 6단  # 7단  # 8단  # 9단  \n",
            "2x1= 2 3x1= 3 4x1= 4 5x1= 5 6x1= 6 7x1= 7 8x1= 8 9x1= 9 \n",
            "2x2= 4 3x2= 6 4x2= 8 5x2=10 6x2=12 7x2=14 8x2=16 9x2=18 \n",
            "2x3= 6 3x3= 9 4x3=12 5x3=15 6x3=18 7x3=21 8x3=24 9x3=27 \n",
            "2x4= 8 3x4=12 4x4=16 5x4=20 6x4=24 7x4=28 8x4=32 9x4=36 \n",
            "2x5=10 3x5=15 4x5=20 5x5=25 6x5=30 7x5=35 8x5=40 9x5=45 \n",
            "2x6=12 3x6=18 4x6=24 5x6=30 6x6=36 7x6=42 8x6=48 9x6=54 \n",
            "2x7=14 3x7=21 4x7=28 5x7=35 6x7=42 7x7=49 8x7=56 9x7=63 \n",
            "2x8=16 3x8=24 4x8=32 5x8=40 6x8=48 7x8=56 8x8=64 9x8=72 \n",
            "2x9=18 3x9=27 4x9=36 5x9=45 6x9=54 7x9=63 8x9=72 9x9=81 \n"
          ],
          "name": "stdout"
        }
      ]
    },
    {
      "cell_type": "code",
      "metadata": {
        "id": "KP3UDNpq8lNj",
        "outputId": "d491ccfc-70f6-40fb-99b6-6190ce16b164",
        "colab": {
          "base_uri": "https://localhost:8080/"
        }
      },
      "source": [
        "i = 1\n",
        "hap = 0\n",
        "\n",
        "while i < 101 :\n",
        "    hap = hap + i\n",
        "    i = i + 1\n",
        "\n",
        "print(f'1~100까지의 합은 : {hap}')  "
      ],
      "execution_count": null,
      "outputs": [
        {
          "output_type": "stream",
          "text": [
            "1~100까지의 합은 : 5050\n"
          ],
          "name": "stdout"
        }
      ]
    },
    {
      "cell_type": "code",
      "metadata": {
        "id": "jmeGzSBADDmg",
        "outputId": "05321f2a-5c65-4948-df8b-bd10d4889799",
        "colab": {
          "base_uri": "https://localhost:8080/"
        }
      },
      "source": [
        "i = 1\n",
        "hap = 0\n",
        "\n",
        "while i < 101 :\n",
        "    if i % 2 == 0 :\n",
        "        hap = hap + i\n",
        "        i = i + 1\n",
        "    else :\n",
        "        hap = hap\n",
        "        i = i + 1\n",
        "\n",
        "print(f'1~100까지의 짝수의 합은 : {hap}')    "
      ],
      "execution_count": null,
      "outputs": [
        {
          "output_type": "stream",
          "text": [
            "1~100까지의 짝수의 합은 : 2550\n"
          ],
          "name": "stdout"
        }
      ]
    },
    {
      "cell_type": "code",
      "metadata": {
        "id": "vRRF2NqzEbog",
        "outputId": "05d7284a-d804-4ef8-aa19-405a67af120d",
        "colab": {
          "base_uri": "https://localhost:8080/"
        }
      },
      "source": [
        "i = 1\n",
        "hap = 0\n",
        "\n",
        "while i < 101 :\n",
        "    i = i + 1\n",
        "\n",
        "    if i % 2 == 0 :\n",
        "        hap = hap + i\n",
        "    else :\n",
        "        hap = hap\n",
        "\n",
        "print(f'1~100까지의 짝수의 합은 : {hap}')    "
      ],
      "execution_count": null,
      "outputs": [
        {
          "output_type": "stream",
          "text": [
            "1~100까지의 짝수의 합은 : 2550\n"
          ],
          "name": "stdout"
        }
      ]
    },
    {
      "cell_type": "code",
      "metadata": {
        "id": "_OZFM2qoEu_h",
        "outputId": "518158ac-47d4-4aa4-86ad-b0384d3c890f",
        "colab": {
          "base_uri": "https://localhost:8080/"
        }
      },
      "source": [
        "i = 0\n",
        "\n",
        "while i < 11 :\n",
        "    i = i + 1\n",
        "\n",
        "    if i < 11 :\n",
        "        print(f'나무를 {i}번 찍었습니다.')\n",
        "        \n",
        "    if i == 11 :\n",
        "        print(f'나무 넘어 갑니다~')"
      ],
      "execution_count": null,
      "outputs": [
        {
          "output_type": "stream",
          "text": [
            "나무를 1번 찍었습니다.\n",
            "나무를 2번 찍었습니다.\n",
            "나무를 3번 찍었습니다.\n",
            "나무를 4번 찍었습니다.\n",
            "나무를 5번 찍었습니다.\n",
            "나무를 6번 찍었습니다.\n",
            "나무를 7번 찍었습니다.\n",
            "나무를 8번 찍었습니다.\n",
            "나무를 9번 찍었습니다.\n",
            "나무를 10번 찍었습니다.\n",
            "나무 넘어 갑니다~\n"
          ],
          "name": "stdout"
        }
      ]
    },
    {
      "cell_type": "code",
      "metadata": {
        "id": "bRumN0lvGanZ",
        "outputId": "832f09c0-06c3-49da-9bfe-57a3816edf6b",
        "colab": {
          "base_uri": "https://localhost:8080/"
        }
      },
      "source": [
        "a = int(input('입력1 : '))\n",
        "b = int(input('입력2 : '))\n",
        "\n",
        "print(f'덧셈 : {a} + {b} = {a+b}')\n",
        "print(f'뺄셈 : {a} - {b} = {a-b}')\n",
        "print(f'나눗셈 : {a} / {b} = {a/b}')\n",
        "print(f'몫 : {a} // {b} = {a//b}')\n",
        "print(f'나머지 : {a} % {b} = {a%b}')\n",
        "print(f'곱셈 : {a} * {b} = {a*b}')"
      ],
      "execution_count": 1,
      "outputs": [
        {
          "output_type": "stream",
          "text": [
            "입력1 : 50\n",
            "입력2 : 30\n",
            "덧셈 : 50 + 30 = 80\n",
            "뺄셈 : 50 - 30 = 20\n",
            "나눗셈 : 50 / 30 = 1.6666666666666667\n",
            "몫 : 50 // 30 = 1\n",
            "나머지 : 50 % 30 = 20\n",
            "곱셈 : 50 * 30 = 1500\n"
          ],
          "name": "stdout"
        }
      ]
    },
    {
      "cell_type": "markdown",
      "metadata": {
        "id": "iZ5AzqJXR23S"
      },
      "source": [
        "# 실습3 "
      ]
    },
    {
      "cell_type": "code",
      "metadata": {
        "id": "R7kyDI49wPOo",
        "outputId": "078015cc-ab6e-49b8-d12f-b3a9278ed014",
        "colab": {
          "base_uri": "https://localhost:8080/"
        }
      },
      "source": [
        "# 랜덤 숫자 \n",
        "import random\n",
        "\n",
        "\n",
        "# 1~46까지의 숫자 랜덤으로 생성\n",
        "def gnlotto() :\n",
        "    return random.randrange(1, 47)\n",
        "\n",
        "# 선택될 로또 번호 \n",
        "def cnlotto() :\n",
        "    lotto = []\n",
        "\n",
        "    while True :\n",
        "        num = gnlotto()\n",
        "        \n",
        "        if num not in lotto :   # 중복된 숫자가 없게 추가 \n",
        "            lotto.append(num)\n",
        "\n",
        "        if len(lotto) > 5 :      # 총 6개의 숫자 생성 \n",
        "            break\n",
        "\n",
        "    return lotto\n",
        "\n",
        "lotto = cnlotto()\n",
        "lotto.sort()\n",
        "print(f'로또 숫자는 {lotto} 입니다.')"
      ],
      "execution_count": 3,
      "outputs": [
        {
          "output_type": "stream",
          "text": [
            "로또 숫자는 [2, 3, 6, 13, 22, 37] 입니다.\n"
          ],
          "name": "stdout"
        }
      ]
    },
    {
      "cell_type": "code",
      "metadata": {
        "id": "e3x8_KfIVDDF"
      },
      "source": [
        ""
      ],
      "execution_count": null,
      "outputs": []
    }
  ]
}